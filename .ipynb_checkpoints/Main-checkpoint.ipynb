{
 "cells": [
  {
   "cell_type": "markdown",
   "metadata": {},
   "source": [
    "imports"
   ]
  },
  {
   "cell_type": "code",
   "execution_count": 6,
   "metadata": {
    "collapsed": true
   },
   "outputs": [],
   "source": [
    "\n",
    "import pandas as pd\n",
    "import numpy as np\n",
    "import matplotlib.pyplot as plt\n",
    "import seaborn as sns\n",
    "from sklearn.decomposition import PCA\n",
    "from sklearn.feature_selection import SelectFromModel, SelectKBest, mutual_info_classif\n",
    "from sklearn.svm import LinearSVC\n",
    "from sklearn.ensemble import ExtraTreesClassifier, RandomForestClassifier\n",
    "from sklearn.neighbors import KNeighborsClassifier\n",
    "from sklearn.linear_model import LogisticRegression #(setting multi_class=”multinomial”)\n",
    "from sklearn.model_selection import train_test_split\n",
    "import os"
   ]
  },
  {
   "cell_type": "markdown",
   "metadata": {},
   "source": [
    "Read data"
   ]
  },
  {
   "cell_type": "code",
   "execution_count": 7,
   "metadata": {},
   "outputs": [],
   "source": [
    "path = \"\"\n",
    "\n",
    "def read_data(csvfile):\n",
    "    df = pd.read_csv(csvfile)\n",
    "    return df\n",
    "#read data\n",
    "trainFile = os.path.join(path, \"train.csv\")\n",
    "train_df = read_data(trainFile)"
   ]
  },
  {
   "cell_type": "code",
   "execution_count": 8,
   "metadata": {},
   "outputs": [],
   "source": [
    "#summary statistics of train data\n",
    "summary = train_df.describe()\n",
    "#count the number of unique levels for each feature as well as for Target \n",
    "nb_levels = pd.DataFrame()\n",
    "cols = train_df.columns\n",
    "for j in range(train_df.shape[1]):\n",
    "    l = train_df[cols[j]].unique()\n",
    "    nb_levels[cols[j]] = pd.Series(len(l))\n",
    "    #distribution of levels for each feature\n",
    "#    for feat in cols[1:]:\n",
    "#        figName = feat+'.png'\n",
    "#        f = plt.figure()\n",
    "#        sns.countplot(x=feat, data= train_df,\n",
    "#             order = train_df[feat].value_counts().index, palette=\"Greens_d\")\n",
    "#        plt.xticks(rotation=85, fontsize = 8)\n",
    "#        f.savefig(os.path.join(path, \"EDA\", figName))"
   ]
  },
  {
   "cell_type": "markdown",
   "metadata": {},
   "source": [
    "study feature correlation "
   ]
  },
  {
   "cell_type": "code",
   "execution_count": 9,
   "metadata": {
    "collapsed": true
   },
   "outputs": [],
   "source": [
    "corr = train_df[cols[1:-1]].corr()\n",
    "#seperate features and target\n",
    "X = train_df[cols[1:-1]]\n",
    "y = train_df[cols[-1]]\n",
    "pca = PCA()\n",
    "pca.fit(X)\n",
    "exp_var_ratio = pca.explained_variance_ratio_"
   ]
  },
  {
   "cell_type": "markdown",
   "metadata": {},
   "source": [
    "feature selection"
   ]
  },
  {
   "cell_type": "code",
   "execution_count": 10,
   "metadata": {
    "collapsed": true
   },
   "outputs": [],
   "source": [
    "lsvc = LinearSVC(C=0.01, penalty=\"l1\", dual=False).fit(X, y)\n",
    "model1 = SelectFromModel(lsvc, prefit=True)\n",
    "idx1 = model1.get_support(indices=True)\n",
    "X_new = model1.transform(X)\n",
    "X_new.shape\n",
    "feat_selected1 = list(X.columns[idx1])"
   ]
  },
  {
   "cell_type": "code",
   "execution_count": 11,
   "metadata": {
    "collapsed": true
   },
   "outputs": [],
   "source": [
    "clf = ExtraTreesClassifier()\n",
    "clf = clf.fit(X, y)\n",
    "model2 = SelectFromModel(clf, prefit=True)\n",
    "idx2 = model2.get_support(indices=True)\n",
    "X_new = model2.transform(X)\n",
    "X_new.shape   \n",
    "feat_selected2 = list(X.columns[idx2])"
   ]
  },
  {
   "cell_type": "code",
   "execution_count": 12,
   "metadata": {
    "collapsed": true
   },
   "outputs": [],
   "source": [
    "model3 = SelectKBest(mutual_info_classif, k=40).fit(X,y)\n",
    "idx3 = model3.get_support(indices=True)\n",
    "X_new = model3.transform(X) \n",
    "X_new.shape\n",
    "feat_selected3 = list(X.columns[idx3])"
   ]
  },
  {
   "cell_type": "code",
   "execution_count": 17,
   "metadata": {
    "collapsed": true
   },
   "outputs": [],
   "source": [
    "#spit data into train/test/validation sets\n",
    "#X_train, X_test, y_train, y_test = train_test_split(X, y, test_size = 0.2)\n",
    "#X_train, X_val, y_train, y_val = train_test_split(X_train, y_train, test_size =0.2)"
   ]
  },
  {
   "cell_type": "code",
   "execution_count": 22,
   "metadata": {},
   "outputs": [],
   "source": [
    "from sklearn.model_selection import StratifiedShuffleSplit\n",
    "\n",
    "X_train = np.asarray(X_train)\n",
    "y_train = np.asarray(y_train)\n",
    "sss = StratifiedShuffleSplit(n_splits=3, test_size=0.2, random_state=0)\n",
    "for train_index, test_index in sss.split(X_train, y_train):\n",
    "    X_train_, X_val_ = X_train[train_index], X_train[test_index]\n",
    "    y_train_, y_val_ = y_train[train_index], y_train[test_index]"
   ]
  },
  {
   "cell_type": "code",
   "execution_count": 23,
   "metadata": {
    "collapsed": true
   },
   "outputs": [],
   "source": [
    "#try out some classification models\n",
    "models = [KNeighborsClassifier(5), RandomForestClassifier(), LogisticRegression()]\n",
    "accuracy = []\n",
    "for clf in models:\n",
    "    clf.fit(X_train, y_train)\n",
    "    mean_acc = clf.score(X_test, y_test)\n",
    "    accuracy.append(mean_acc)"
   ]
  },
  {
   "cell_type": "code",
   "execution_count": 24,
   "metadata": {},
   "outputs": [
    {
     "name": "stdout",
     "output_type": "stream",
     "text": [
      "[0.77731092436974791, 0.77359405300581774, 0.75468648998060761]\n"
     ]
    }
   ],
   "source": [
    "print(accuracy)"
   ]
  },
  {
   "cell_type": "code",
   "execution_count": null,
   "metadata": {
    "collapsed": true
   },
   "outputs": [],
   "source": []
  }
 ],
 "metadata": {
  "kernelspec": {
   "display_name": "Python 2",
   "language": "python",
   "name": "python2"
  },
  "language_info": {
   "codemirror_mode": {
    "name": "ipython",
    "version": 2
   },
   "file_extension": ".py",
   "mimetype": "text/x-python",
   "name": "python",
   "nbconvert_exporter": "python",
   "pygments_lexer": "ipython2",
   "version": "2.7.13"
  }
 },
 "nbformat": 4,
 "nbformat_minor": 2
}
